{
  "cells": [
    {
      "cell_type": "code",
      "execution_count": null,
      "metadata": {
        "id": "jLnmUVufn_Cg"
      },
      "outputs": [],
      "source": [
        "import keras\n",
        "from keras import layers\n",
        "import tensorflow as tf\n",
        "import tensorflow_datasets as tfds\n",
        "import numpy as np\n",
        "from tensorflow.keras import datasets, layers, models, losses\n",
        "from datetime import datetime\n",
        "import matplotlib.pyplot as plt\n",
        "import pandas as pd\n",
        "import tensorflow_hub as hub\n",
        "import datetime"
      ]
    },
    {
      "cell_type": "code",
      "execution_count": null,
      "metadata": {
        "id": "odqzutvqoEfl"
      },
      "outputs": [],
      "source": [
        "dataset = tfds.load('bee_dataset', split=['train'], as_supervised=True)"
      ]
    },
    {
      "cell_type": "code",
      "execution_count": null,
      "metadata": {
        "id": "rwzol8IScoJR"
      },
      "outputs": [],
      "source": [
        "splitSize = (0.0, 0.765, 0.9, 1.0)"
      ]
    },
    {
      "cell_type": "markdown",
      "metadata": {
        "id": "LixVfI-qab29"
      },
      "source": [
        "Testing precision on red channel only"
      ]
    },
    {
      "cell_type": "code",
      "execution_count": null,
      "metadata": {
        "colab": {
          "base_uri": "https://localhost:8080/"
        },
        "id": "BQ7e-uogvGr2",
        "outputId": "b6106020-549c-4f7b-8f1e-c2f67643a934"
      },
      "outputs": [
        {
          "output_type": "stream",
          "name": "stderr",
          "text": [
            "<ipython-input-42-621227d31954>:1: FutureWarning: arrays to stack must be passed as a \"sequence\" type such as list or tuple. Support for non-sequence iterables such as generators is deprecated as of NumPy 1.16 and will raise an error in the future.\n",
            "  array = np.vstack(tfds.as_numpy(dataset[0]))\n",
            "/usr/local/lib/python3.8/dist-packages/numpy/core/shape_base.py:121: VisibleDeprecationWarning: Creating an ndarray from ragged nested sequences (which is a list-or-tuple of lists-or-tuples-or ndarrays with different lengths or shapes) is deprecated. If you meant to do this, you must specify 'dtype=object' when creating the ndarray.\n",
            "  ary = asanyarray(ary)\n"
          ]
        }
      ],
      "source": [
        "array = np.vstack(tfds.as_numpy(dataset[0]))\n",
        "ranges = list([int(array.shape[0] * x) for x in splitSize])\n",
        "\n",
        "def getDataset(ranges, idx):\n",
        "    return (\n",
        "        np.array(list(map(lambda x: x[0][:, :, :], array[ranges[idx]: ranges[idx + 1]]))),\n",
        "        np.array(list(map(lambda x: x[1]['cooling_output'], array[ranges[idx]: ranges[idx + 1]]))),\n",
        "        np.array(list(map(lambda x: x[1]['pollen_output'], array[ranges[idx]: ranges[idx + 1]]))),\n",
        "        np.array(list(map(lambda x: x[1]['varroa_output'], array[ranges[idx]: ranges[idx + 1]]))),\n",
        "        np.array(list(map(lambda x: x[1]['wasps_output'], array[ranges[idx]: ranges[idx + 1]])))\n",
        "    )\n",
        "train_images, train_labels1,train_labels2,train_labels3, train_labels4= getDataset(ranges, 0)\n",
        "validation_images, validation_labels1,validation_labels2, validation_labels3, validation_labels4 = getDataset(ranges, 1)\n",
        "test_images, test_labels1,test_labels2,test_labels3, test_labels4  = getDataset(ranges, 2)"
      ]
    },
    {
      "cell_type": "code",
      "execution_count": null,
      "metadata": {
        "colab": {
          "base_uri": "https://localhost:8080/"
        },
        "id": "WXz3ymtr8EuJ",
        "outputId": "a6ce2b1f-f1b7-4ac1-9cf3-a89e3bb8ebb8"
      },
      "outputs": [
        {
          "output_type": "execute_result",
          "data": {
            "text/plain": [
              "((5729, 4), array([[0., 0., 0., 1.],\n",
              "        [0., 0., 1., 0.],\n",
              "        [0., 0., 0., 0.],\n",
              "        [1., 0., 0., 0.],\n",
              "        [0., 1., 0., 0.],\n",
              "        [1., 0., 0., 0.],\n",
              "        [0., 0., 1., 0.],\n",
              "        [0., 1., 0., 0.],\n",
              "        [0., 0., 0., 0.],\n",
              "        [0., 0., 0., 0.]]))"
            ]
          },
          "metadata": {},
          "execution_count": 43
        }
      ],
      "source": [
        "train_labels = np.dstack((train_labels1, train_labels2, train_labels3,train_labels4)).squeeze()\n",
        "validation_labels = np.dstack((validation_labels1,validation_labels2, validation_labels3, validation_labels4)).squeeze()\n",
        "test_labels = np.dstack((test_labels1,test_labels2,test_labels3, test_labels4)).squeeze()\n",
        "train_labels.shape, train_labels[:10]"
      ]
    },
    {
      "cell_type": "code",
      "source": [
        "resnet_url = \"https://tfhub.dev/google/imagenet/resnet_v2_50/feature_vector/4\""
      ],
      "metadata": {
        "id": "636I6IDqHPEH"
      },
      "execution_count": null,
      "outputs": []
    },
    {
      "cell_type": "code",
      "source": [
        "def create_model(model_url, num_classes=10):\n",
        "\n",
        "  feature_extractor_layer = hub.KerasLayer(model_url,\n",
        "                                           trainable=False, \n",
        "                                           name='feature_extraction_layer',\n",
        "                                           input_shape=(300,150,3)) \n",
        "  model = tf.keras.Sequential([\n",
        "    feature_extractor_layer, \n",
        "    layers.Dense(num_classes, activation='sigmoid', name='output_layer') \n",
        "  ])\n",
        "  return model"
      ],
      "metadata": {
        "id": "l4I9QUNnyO_c"
      },
      "execution_count": null,
      "outputs": []
    },
    {
      "cell_type": "code",
      "source": [
        "def create_tensorboard_callback(dir_name, experiment_name):\n",
        "  log_dir = dir_name + \"/\" + experiment_name + \"/\" + datetime.datetime.now().strftime(\"%Y%m%d-%H%M%S\")\n",
        "  tensorboard_callback = tf.keras.callbacks.TensorBoard(\n",
        "      log_dir=log_dir\n",
        "  )\n",
        "  print(f\"Saving TensorBoard log files to: {log_dir}\")\n",
        "  return tensorboard_callback"
      ],
      "metadata": {
        "id": "6A62qa2e0EWy"
      },
      "execution_count": null,
      "outputs": []
    },
    {
      "cell_type": "code",
      "source": [
        "resnet_model = create_model(resnet_url, num_classes=4)\n",
        "resnet_model.compile(loss= tf.keras.losses.BinaryCrossentropy(),\n",
        "                     optimizer=tf.keras.optimizers.Adam(),\n",
        "                     metrics=['accuracy'])"
      ],
      "metadata": {
        "id": "NpUrheW1yTc9"
      },
      "execution_count": null,
      "outputs": []
    },
    {
      "cell_type": "code",
      "source": [
        "resnet_history = resnet_model.fit(train_images,train_labels,\n",
        "                                  epochs=50,\n",
        "                                  batch_size= 32,\n",
        "                                  validation_data=(validation_images, validation_labels),\n",
        "                                  callbacks=[create_tensorboard_callback(dir_name=\"tensorflow_hub\", \n",
        "                                                                         experiment_name=\"resnet50V2\")])"
      ],
      "metadata": {
        "id": "OmJqpr8iyTt3",
        "outputId": "8bfcd533-9ad5-4581-8ddb-f6b90285b401",
        "colab": {
          "base_uri": "https://localhost:8080/"
        }
      },
      "execution_count": null,
      "outputs": [
        {
          "output_type": "stream",
          "name": "stdout",
          "text": [
            "Saving TensorBoard log files to: tensorflow_hub/resnet50V2/20221222-080158\n",
            "Epoch 1/50\n",
            "180/180 [==============================] - 65s 99ms/step - loss: 8.5964 - accuracy: 0.3051 - val_loss: 3.7701 - val_accuracy: 0.1868\n",
            "Epoch 2/50\n",
            "180/180 [==============================] - 17s 95ms/step - loss: 1.6448 - accuracy: 0.3727 - val_loss: 1.4865 - val_accuracy: 0.3053\n",
            "Epoch 3/50\n",
            "180/180 [==============================] - 17s 95ms/step - loss: 1.2627 - accuracy: 0.4064 - val_loss: 1.3722 - val_accuracy: 0.3538\n",
            "Epoch 4/50\n",
            "180/180 [==============================] - 17s 96ms/step - loss: 1.1526 - accuracy: 0.4338 - val_loss: 2.9617 - val_accuracy: 0.2935\n",
            "Epoch 5/50\n",
            "180/180 [==============================] - 17s 96ms/step - loss: 1.4510 - accuracy: 0.4493 - val_loss: 2.3227 - val_accuracy: 0.5128\n",
            "Epoch 6/50\n",
            "180/180 [==============================] - 17s 96ms/step - loss: 1.3727 - accuracy: 0.4441 - val_loss: 1.3101 - val_accuracy: 0.5484\n",
            "Epoch 7/50\n",
            "180/180 [==============================] - 17s 97ms/step - loss: 1.0366 - accuracy: 0.4458 - val_loss: 9.2958 - val_accuracy: 0.1462\n",
            "Epoch 8/50\n",
            "180/180 [==============================] - 18s 98ms/step - loss: 1.6248 - accuracy: 0.4420 - val_loss: 3.9944 - val_accuracy: 0.2816\n",
            "Epoch 9/50\n",
            "180/180 [==============================] - 20s 114ms/step - loss: 1.7598 - accuracy: 0.4502 - val_loss: 1.1768 - val_accuracy: 0.4545\n",
            "Epoch 10/50\n",
            "180/180 [==============================] - 20s 114ms/step - loss: 1.2110 - accuracy: 0.4275 - val_loss: 4.3169 - val_accuracy: 0.3034\n",
            "Epoch 11/50\n",
            "180/180 [==============================] - 18s 98ms/step - loss: 1.1628 - accuracy: 0.4538 - val_loss: 1.5064 - val_accuracy: 0.4605\n",
            "Epoch 12/50\n",
            "180/180 [==============================] - 20s 112ms/step - loss: 0.8436 - accuracy: 0.4664 - val_loss: 4.6013 - val_accuracy: 0.3933\n",
            "Epoch 13/50\n",
            "180/180 [==============================] - 20s 113ms/step - loss: 1.2312 - accuracy: 0.4540 - val_loss: 1.9003 - val_accuracy: 0.4071\n",
            "Epoch 14/50\n",
            "180/180 [==============================] - 20s 113ms/step - loss: 1.1561 - accuracy: 0.4519 - val_loss: 1.6501 - val_accuracy: 0.5445\n",
            "Epoch 15/50\n",
            "180/180 [==============================] - 18s 99ms/step - loss: 0.9929 - accuracy: 0.4552 - val_loss: 1.2182 - val_accuracy: 0.4773\n",
            "Epoch 16/50\n",
            "180/180 [==============================] - 18s 99ms/step - loss: 1.2435 - accuracy: 0.4577 - val_loss: 5.1258 - val_accuracy: 0.3646\n",
            "Epoch 17/50\n",
            "180/180 [==============================] - 18s 99ms/step - loss: 1.0697 - accuracy: 0.4652 - val_loss: 1.2725 - val_accuracy: 0.3962\n",
            "Epoch 18/50\n",
            "180/180 [==============================] - 18s 99ms/step - loss: 1.0468 - accuracy: 0.4488 - val_loss: 1.8632 - val_accuracy: 0.4506\n",
            "Epoch 19/50\n",
            "180/180 [==============================] - 20s 112ms/step - loss: 1.0813 - accuracy: 0.4720 - val_loss: 6.8999 - val_accuracy: 0.2796\n",
            "Epoch 20/50\n",
            "180/180 [==============================] - 20s 112ms/step - loss: 1.0582 - accuracy: 0.4732 - val_loss: 1.4405 - val_accuracy: 0.4447\n",
            "Epoch 21/50\n",
            "180/180 [==============================] - 18s 99ms/step - loss: 1.0731 - accuracy: 0.4640 - val_loss: 0.5925 - val_accuracy: 0.5326\n",
            "Epoch 22/50\n",
            "180/180 [==============================] - 18s 98ms/step - loss: 0.7497 - accuracy: 0.4846 - val_loss: 0.5575 - val_accuracy: 0.5128\n",
            "Epoch 23/50\n",
            "180/180 [==============================] - 20s 112ms/step - loss: 0.7323 - accuracy: 0.4853 - val_loss: 1.5839 - val_accuracy: 0.2727\n",
            "Epoch 24/50\n",
            "180/180 [==============================] - 20s 112ms/step - loss: 1.5816 - accuracy: 0.4474 - val_loss: 2.0331 - val_accuracy: 0.4704\n",
            "Epoch 25/50\n",
            "180/180 [==============================] - 18s 98ms/step - loss: 1.1905 - accuracy: 0.4660 - val_loss: 4.2061 - val_accuracy: 0.2994\n",
            "Epoch 26/50\n",
            "180/180 [==============================] - 18s 99ms/step - loss: 1.1185 - accuracy: 0.4769 - val_loss: 0.5657 - val_accuracy: 0.5208\n",
            "Epoch 27/50\n",
            "180/180 [==============================] - 20s 113ms/step - loss: 0.9807 - accuracy: 0.4737 - val_loss: 1.1238 - val_accuracy: 0.4239\n",
            "Epoch 28/50\n",
            "180/180 [==============================] - 18s 99ms/step - loss: 0.9620 - accuracy: 0.4786 - val_loss: 0.7454 - val_accuracy: 0.4842\n",
            "Epoch 29/50\n",
            "180/180 [==============================] - 20s 113ms/step - loss: 0.9294 - accuracy: 0.4723 - val_loss: 2.2580 - val_accuracy: 0.3923\n",
            "Epoch 30/50\n",
            "180/180 [==============================] - 20s 113ms/step - loss: 0.9811 - accuracy: 0.4798 - val_loss: 1.2087 - val_accuracy: 0.5553\n",
            "Epoch 31/50\n",
            "180/180 [==============================] - 20s 112ms/step - loss: 0.7784 - accuracy: 0.4877 - val_loss: 1.4591 - val_accuracy: 0.4101\n",
            "Epoch 32/50\n",
            "180/180 [==============================] - 20s 112ms/step - loss: 0.7590 - accuracy: 0.4905 - val_loss: 4.8301 - val_accuracy: 0.3014\n",
            "Epoch 33/50\n",
            "180/180 [==============================] - 20s 113ms/step - loss: 0.9791 - accuracy: 0.4797 - val_loss: 0.5211 - val_accuracy: 0.4980\n",
            "Epoch 34/50\n",
            "180/180 [==============================] - 20s 112ms/step - loss: 0.8568 - accuracy: 0.4783 - val_loss: 0.8527 - val_accuracy: 0.4990\n",
            "Epoch 35/50\n",
            "180/180 [==============================] - 18s 98ms/step - loss: 0.7392 - accuracy: 0.4844 - val_loss: 3.7737 - val_accuracy: 0.4190\n",
            "Epoch 36/50\n",
            "180/180 [==============================] - 20s 112ms/step - loss: 1.3496 - accuracy: 0.4849 - val_loss: 1.2726 - val_accuracy: 0.5178\n",
            "Epoch 37/50\n",
            "180/180 [==============================] - 18s 98ms/step - loss: 0.8574 - accuracy: 0.4886 - val_loss: 3.5049 - val_accuracy: 0.3508\n",
            "Epoch 38/50\n",
            "180/180 [==============================] - 20s 112ms/step - loss: 1.6855 - accuracy: 0.4709 - val_loss: 10.8506 - val_accuracy: 0.1502\n",
            "Epoch 39/50\n",
            "180/180 [==============================] - 20s 112ms/step - loss: 1.1705 - accuracy: 0.4861 - val_loss: 0.7816 - val_accuracy: 0.4862\n",
            "Epoch 40/50\n",
            "180/180 [==============================] - 20s 112ms/step - loss: 0.9711 - accuracy: 0.4989 - val_loss: 1.0200 - val_accuracy: 0.5109\n",
            "Epoch 41/50\n",
            "180/180 [==============================] - 18s 98ms/step - loss: 0.9241 - accuracy: 0.4921 - val_loss: 1.2923 - val_accuracy: 0.5119\n",
            "Epoch 42/50\n",
            "180/180 [==============================] - 20s 113ms/step - loss: 1.0290 - accuracy: 0.4877 - val_loss: 2.1045 - val_accuracy: 0.3617\n",
            "Epoch 43/50\n",
            "180/180 [==============================] - 18s 98ms/step - loss: 0.8710 - accuracy: 0.4900 - val_loss: 2.1448 - val_accuracy: 0.4852\n",
            "Epoch 44/50\n",
            "180/180 [==============================] - 18s 100ms/step - loss: 1.1630 - accuracy: 0.4762 - val_loss: 3.9619 - val_accuracy: 0.2609\n",
            "Epoch 45/50\n",
            "180/180 [==============================] - 18s 99ms/step - loss: 1.5317 - accuracy: 0.4736 - val_loss: 0.8186 - val_accuracy: 0.4792\n",
            "Epoch 46/50\n",
            "180/180 [==============================] - 20s 113ms/step - loss: 0.6710 - accuracy: 0.5060 - val_loss: 0.5025 - val_accuracy: 0.5138\n",
            "Epoch 47/50\n",
            "180/180 [==============================] - 20s 113ms/step - loss: 0.7424 - accuracy: 0.4877 - val_loss: 0.6935 - val_accuracy: 0.5464\n",
            "Epoch 48/50\n",
            "180/180 [==============================] - 20s 113ms/step - loss: 0.9534 - accuracy: 0.4837 - val_loss: 0.6993 - val_accuracy: 0.4802\n",
            "Epoch 49/50\n",
            "180/180 [==============================] - 20s 113ms/step - loss: 0.7581 - accuracy: 0.4949 - val_loss: 1.0951 - val_accuracy: 0.4012\n",
            "Epoch 50/50\n",
            "180/180 [==============================] - 20s 113ms/step - loss: 0.9547 - accuracy: 0.4884 - val_loss: 10.2701 - val_accuracy: 0.6117\n"
          ]
        }
      ]
    },
    {
      "cell_type": "code",
      "source": [
        "def plot_loss_curves(history):\n",
        "\n",
        "  loss = history.history['loss']\n",
        "  val_loss = history.history['val_loss']\n",
        "\n",
        "  accuracy = history.history['accuracy']\n",
        "  val_accuracy = history.history['val_accuracy']\n",
        "\n",
        "  epochs = range(len(history.history['loss']))\n",
        "\n",
        "  # Plot loss\n",
        "  plt.plot(epochs, loss, label='training_loss')\n",
        "  plt.plot(epochs, val_loss, label='val_loss')\n",
        "  plt.title('Loss')\n",
        "  plt.xlabel('Epochs')\n",
        "  plt.legend()\n",
        "\n",
        "  # Plot accuracy\n",
        "  plt.figure()\n",
        "  plt.plot(epochs, accuracy, label='training_accuracy')\n",
        "  plt.plot(epochs, val_accuracy, label='val_accuracy')\n",
        "  plt.title('Accuracy')\n",
        "  plt.xlabel('Epochs')\n",
        "  plt.legend();"
      ],
      "metadata": {
        "id": "tDqB_KYAzaDD"
      },
      "execution_count": null,
      "outputs": []
    },
    {
      "cell_type": "code",
      "source": [
        "!tensorboard dev upload --logdir ./tensorflow_hub/ \\\n",
        "  --name \"ResNet50V2\" \\\n",
        "  --description \"resnet_log\" \\\n",
        "  --one_shot"
      ],
      "metadata": {
        "id": "80POTpwC0dVi",
        "outputId": "0e926abb-7027-47ed-8ad4-b90cd956e9c1",
        "colab": {
          "base_uri": "https://localhost:8080/"
        }
      },
      "execution_count": null,
      "outputs": [
        {
          "output_type": "stream",
          "name": "stdout",
          "text": [
            "\n",
            "***** TensorBoard Uploader *****\n",
            "\n",
            "This will upload your TensorBoard logs to https://tensorboard.dev/ from\n",
            "the following directory:\n",
            "\n",
            "./tensorflow_hub/\n",
            "\n",
            "This TensorBoard will be visible to everyone. Do not upload sensitive\n",
            "data.\n",
            "\n",
            "Your use of this service is subject to Google's Terms of Service\n",
            "<https://policies.google.com/terms> and Privacy Policy\n",
            "<https://policies.google.com/privacy>, and TensorBoard.dev's Terms of Service\n",
            "<https://tensorboard.dev/policy/terms/>.\n",
            "\n",
            "This notice will not be shown again while you are logged into the uploader.\n",
            "To log out, run `tensorboard dev auth revoke`.\n",
            "\n",
            "Continue? (yes/NO) yes\n",
            "\n",
            "Please visit this URL to authorize this application: https://accounts.google.com/o/oauth2/auth?response_type=code&client_id=373649185512-8v619h5kft38l4456nm2dj4ubeqsrvh6.apps.googleusercontent.com&redirect_uri=urn%3Aietf%3Awg%3Aoauth%3A2.0%3Aoob&scope=openid+https%3A%2F%2Fwww.googleapis.com%2Fauth%2Fuserinfo.email&state=7gk2wTtTZSzA7SnChellDP8mF3Su7h&prompt=consent&access_type=offline\n",
            "Enter the authorization code: 4/1AWgavdcZDmNJbQ2XvXRCwsEEqbIuuGQeQuGyVmbiuezyN7vzLu0gXf5irqY\n",
            "\n",
            "\n",
            "New experiment created. View your TensorBoard at: https://tensorboard.dev/experiment/i7iXnKWDSkClXmmsPouPcg/\n",
            "\n",
            "\u001b[1m[2022-12-22T08:19:04]\u001b[0m Started scanning logdir.\n",
            "\u001b[1m[2022-12-22T08:19:11]\u001b[0m Total uploaded: 446 scalars, 0 tensors, 3 binary objects (5.3 MB)\n",
            "\u001b[1m[2022-12-22T08:19:11]\u001b[0m Done scanning logdir.\n",
            "\n",
            "\n",
            "Done. View your TensorBoard at https://tensorboard.dev/experiment/i7iXnKWDSkClXmmsPouPcg/\n"
          ]
        }
      ]
    },
    {
      "cell_type": "code",
      "source": [
        "!tensorboard dev list\n"
      ],
      "metadata": {
        "id": "TKbmEm3k0j6l",
        "outputId": "1808ce2c-33a9-4090-9ca0-51ff7466eae7",
        "colab": {
          "base_uri": "https://localhost:8080/"
        }
      },
      "execution_count": null,
      "outputs": [
        {
          "output_type": "stream",
          "name": "stdout",
          "text": [
            "https://tensorboard.dev/experiment/i7iXnKWDSkClXmmsPouPcg/\n",
            "\tName                 ResNet50V2\n",
            "\tDescription          resnet_log\n",
            "\tId                   i7iXnKWDSkClXmmsPouPcg\n",
            "\tCreated              2022-12-22 08:19:04 (12 seconds ago)\n",
            "\tUpdated              2022-12-22 08:19:11 (5 seconds ago)\n",
            "\tRuns                 6\n",
            "\tTags                 5\n",
            "\tScalars              446\n",
            "\tTensor bytes         0\n",
            "\tBinary object bytes  5551731\n",
            "Total: 1 experiment(s)\n"
          ]
        }
      ]
    }
  ],
  "metadata": {
    "accelerator": "GPU",
    "colab": {
      "provenance": []
    },
    "gpuClass": "standard",
    "kernelspec": {
      "display_name": "Python 3",
      "name": "python3"
    },
    "language_info": {
      "name": "python"
    }
  },
  "nbformat": 4,
  "nbformat_minor": 0
}