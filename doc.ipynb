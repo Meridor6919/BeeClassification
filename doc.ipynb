{
  "nbformat": 4,
  "nbformat_minor": 0,
  "metadata": {
    "colab": {
      "provenance": [],
      "authorship_tag": "ABX9TyOeNqdGaVLfjXJ8bE/mct4t",
      "include_colab_link": true
    },
    "kernelspec": {
      "name": "python3",
      "display_name": "Python 3"
    },
    "language_info": {
      "name": "python"
    }
  },
  "cells": [
    {
      "cell_type": "markdown",
      "metadata": {
        "id": "view-in-github",
        "colab_type": "text"
      },
      "source": [
        "<a href=\"https://colab.research.google.com/github/Meridor6919/BeeClassification/blob/master/doc.ipynb\" target=\"_parent\"><img src=\"https://colab.research.google.com/assets/colab-badge.svg\" alt=\"Open In Colab\"/></a>"
      ]
    },
    {
      "cell_type": "markdown",
      "source": [
        "# Preview of CNN based on bee_classification\n",
        "-------------------\n",
        "\n",
        "## Spis treści\n",
        "1. [Wstęp](#1)\n",
        "    1. [Cel projektu](#1.1)\n",
        "    2. [Czym jest CNN?](#1.2)\n",
        "    3. [Z czego składa się bee_dataset?](#1.3)\n",
        "2. [Model](#2)\n",
        "    1. [Specyfika modelu](#2.1)\n",
        "    2. [Część eksperymentalna](#2.2)\n",
        "      1. [Architektura](#2.2.1)\n",
        "      2. [Porównanie jakości klasyfikacji](#2.2.2)\n",
        "    3. [Użytkowanie](#2.3)\n",
        "      1. [Przygotowanie danych](#2.3.1)\n",
        "      2. [Opis input-output](#2.3.2)\n",
        "3. [Contributing](#3)\n",
        "4. [Źródła](#4)\n",
        "\n",
        "<a name=\"1\"></a>\n",
        "# Wstęp\n",
        "-------------------\n",
        "\n",
        "<a name=\"1.1\"></a>\n",
        "## Cel projektu\n",
        "-------------------\n",
        "\n",
        "krótki opis\n",
        "\n",
        "<a name=\"1.2\"></a>\n",
        "## Czym jest CNN?\n",
        "-------------------\n",
        "\n",
        "geron 14\n",
        "\n",
        "<a name=\"1.3\"></a>\n",
        "## Z czego składa się bee_dataset?\n",
        "-------------------\n",
        "\n",
        "[bee_dataset](https://www.tensorflow.org/datasets/catalog/bee_dataset)\n",
        "\n",
        "<a name=\"2\"></a>\n",
        "# Model\n",
        "-------------------\n",
        "\n",
        "<a name=\"2.1\"></a>\n",
        "## Specyfika modelu\n",
        "-------------------\n",
        "\n",
        "<a name=\"2.2\"></a>\n",
        "## Część eksperymentalna\n",
        "-------------------\n",
        "\n",
        "<a name=\"2.2.1\"></a>\n",
        "### Architektura\n",
        "-------------------\n",
        "\n",
        "<a name=\"2.2.2\"></a>\n",
        "### Porównanie jakości klasyfikacji\n",
        "-------------------\n",
        "\n",
        "<a name=\"2.3\"></a>\n",
        "## Użytkowanie\n",
        "-------------------\n",
        "\n",
        "<a name=\"2.3.1\"></a>\n",
        "### Przygotowanie danych\n",
        "-------------------\n",
        "\n",
        "<a name=\"2.3.2\"></a>\n",
        "### Opis input-output\n",
        "-------------------\n",
        "\n",
        "<a name=\"3\"></a>\n",
        "# Contributing\n",
        "-------------------\n",
        "\n",
        "<a name=\"4\"></a>\n",
        "# Źródła\n",
        "-------------------\n",
        "1. [Deep Learning with Python by François Chollet, version 6, 2017](https://www.manning.com/books/deep-learning-with-python)\n",
        "\n",
        "2. [Hands-On Machine Learning with Scikit-Learn, Keras and TensorFlow by Aurélien Géron, 2nd edition, 2019](https://www.oreilly.com/library/view/hands-on-machine-learning/9781492032632/)\n",
        "\n",
        "3. [TensorFlow Keras Documentation](https://www.tensorflow.org/api_docs/python/tf/keras)\n",
        "\n",
        "\n",
        "<br/>\n",
        "\n",
        "![zdjecie](https://drive.google.com/uc?id=16xYDkCsPLDC8VhVVwB5bq3rpxdC-fnYM)\n",
        "// \"https://drive.google.com/uc?id=\" format odnośnika"
      ],
      "metadata": {
        "id": "AKKD9l7g7Ilm"
      }
    }
  ]
}