{
  "nbformat": 4,
  "nbformat_minor": 0,
  "metadata": {
    "colab": {
      "provenance": [],
      "authorship_tag": "ABX9TyOy5j3dsm4SsRL15gGRy1Lu",
      "include_colab_link": true
    },
    "kernelspec": {
      "name": "python3",
      "display_name": "Python 3"
    },
    "language_info": {
      "name": "python"
    }
  },
  "cells": [
    {
      "cell_type": "markdown",
      "metadata": {
        "id": "view-in-github",
        "colab_type": "text"
      },
      "source": [
        "<a href=\"https://colab.research.google.com/github/Meridor6919/BeeClassification/blob/master/doc.ipynb\" target=\"_parent\"><img src=\"https://colab.research.google.com/assets/colab-badge.svg\" alt=\"Open In Colab\"/></a>"
      ]
    },
    {
      "cell_type": "markdown",
      "source": [
        "# Preview of CNN based on bee_classification\n",
        "-------------------\n",
        "\n",
        "## Table of Contents\n",
        "1. [Wstęp](#Wstęp)\n",
        "    1. [Czym jest CNN?](#subsection-a)\n",
        "    2. [Czym jest baza danych?](#subsection-b)\n",
        "    3. [Cel uczenia](#subsection-c) //opis, cel projektu\n",
        "2. [Model](#model)\n",
        "    1. [Specyfika modelu](#subsection-e)\n",
        "    2. [Porównanie architektur](#subsection-f)\n",
        "    3. [Przygotowanie danych](#subsection-g)\n",
        "    4. [Porównanie jakości klasyfikacji](#subsection-h)\n",
        "3. [Źródła](#źródła)\n",
        "\n",
        "## Wstęp\n",
        "-------------------\n",
        "\n",
        "krótki opis\n",
        "\n",
        "```pip install documentation```\n",
        "\n",
        "![zdjecie](https://www.harrierpestprevention.com/wp-content/uploads/2013/02/bumble-bee-150x150.jpg)\n",
        "\n",
        "\n",
        "-------------------\n",
        "<br/>\n",
        "\n",
        "wstęp\n",
        "  - krótki opis, cel projektu\n",
        "  - CNN(geron 14)\n",
        "  - database\n",
        "\n",
        "model\n",
        "  - specyfika modelu\n",
        "  - architektura\n",
        "    - porównanie architektur\n",
        "    - porównanie jakości klasyfikacji\n",
        "  - użytkowanie\n",
        "    - przygotowanie danych\n",
        "    - opis input output\n",
        "\n",
        "contributing?\n",
        "\n",
        "źródła"
      ],
      "metadata": {
        "id": "AKKD9l7g7Ilm"
      }
    },
    {
      "cell_type": "markdown",
      "source": [
        "Preview of CNN based on bee_classification\n",
        "==========================================\n",
        "1. Wstęp\n",
        "\n",
        "* czym jest cnn\n",
        "* czym jest baza danych\n",
        "* cel uczenia\n",
        "\n",
        "2. Model\n",
        "\n",
        "* specyfika modelu(kilka parametrow na raz)\n",
        "* porównanie architektur\n",
        "  * \n",
        "  * ResNet(głęboka)\n",
        "* data preparation, augmentation\n",
        "* porównanie jakości klasyfikacji na 1 parametrze dla sieci z wieloma wyjściami i modeli dedykowanych\n",
        "\n",
        "3. Źródła"
      ],
      "metadata": {
        "id": "RaGc4fCbnxxH"
      }
    }
  ]
}