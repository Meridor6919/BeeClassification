{
  "nbformat": 4,
  "nbformat_minor": 0,
  "metadata": {
    "colab": {
      "provenance": [],
      "authorship_tag": "ABX9TyN6QDvkCeC/2TgE71UhsUIj",
      "include_colab_link": true
    },
    "kernelspec": {
      "name": "python3",
      "display_name": "Python 3"
    },
    "language_info": {
      "name": "python"
    }
  },
  "cells": [
    {
      "cell_type": "markdown",
      "metadata": {
        "id": "view-in-github",
        "colab_type": "text"
      },
      "source": [
        "<a href=\"https://colab.research.google.com/github/Meridor6919/BeeClassification/blob/master/doc.ipynb\" target=\"_parent\"><img src=\"https://colab.research.google.com/assets/colab-badge.svg\" alt=\"Open In Colab\"/></a>"
      ]
    },
    {
      "cell_type": "markdown",
      "source": [
        "# Preview of CNN based on bee_classification\n",
        "-------------------\n",
        "\n",
        "## Spis treści\n",
        "1. [Wstęp](#Wstęp)\n",
        "    1. [Cel projektu](#Cel-projektu)\n",
        "    2. [Czym jest CNN?](#Czym-jest-CNN?)\n",
        "    3. [Z czego składa się bee_dataset?](#Z-czego-składa-się-bee_dataset?)\n",
        "2. [Model](#Model)\n",
        "    1. [Specyfika modelu](#Specyfika-modelu)\n",
        "    2. [Część eksperymentalna](#Część-eksperymentalna)\n",
        "      1. [Architektura](#Architektura)\n",
        "      2. [Porównanie jakości klasyfikacji](#Porównanie-jakości-klasyfikacji)\n",
        "    3. [Użytkowanie](#Użytkowanie)\n",
        "      1. [Przygotowanie danych](#Przygotowanie-danych)\n",
        "      2. [Opis input-output](#Opis-input-output)\n",
        "3. [Contributing](#Contributing)\n",
        "4. [Źródła](#Źródła)\n",
        "\n",
        "# Wstęp\n",
        "-------------------\n",
        "## Cel projektu\n",
        "-------------------\n",
        "\n",
        "krótki opis\n",
        "\n",
        "## Czym jest CNN?\n",
        "-------------------\n",
        "\n",
        "geron 14\n",
        "\n",
        "## Z czego składa się bee_dataset?\n",
        "-------------------\n",
        "\n",
        "[bee_dataset](https://www.tensorflow.org/datasets/catalog/bee_dataset)\n",
        "\n",
        "# Model\n",
        "-------------------\n",
        "\n",
        "## Specyfika modelu\n",
        "-------------------\n",
        "\n",
        "## Część eksperymentalna\n",
        "-------------------\n",
        "\n",
        "### Architektura\n",
        "-------------------\n",
        "\n",
        "### Porównanie jakości klasyfikacji\n",
        "-------------------\n",
        "\n",
        "## Uzytkowanie\n",
        "-------------------\n",
        "\n",
        "### Przygotowanie danych\n",
        "-------------------\n",
        "\n",
        "### Opis input-output\n",
        "-------------------\n",
        "\n",
        "# Contributing\n",
        "-------------------\n",
        "\n",
        "# Źródła\n",
        "-------------------\n",
        "1. [Deep Learning with Python by François Chollet, version 6, 2017](https://www.google.com/search?q=Deep+Learning+with+Python+Fran%C3%A7ois+Chollet&client=firefox-b-d&sxsrf=AJOqlzUac5Dr4aPyDZIw_o47ogTL8ZL4Cw%3A1673358972460&ei=fG69Y_DXG6ywrgSrwLngAQ&ved=0ahUKEwjwhYr5k738AhUsmIsKHStgDhwQ4dUDCA4&uact=5&oq=Deep+Learning+with+Python+Fran%C3%A7ois+Chollet&gs_lcp=Cgxnd3Mtd2l6LXNlcnAQAzILCC4QgAQQ1AIQywEyCAgAEIAEEMsBMgsILhCABBDUAhDLATIECAAQHjIGCAAQHhAKMgYIABAIEB4yBggAEAgQHjIJCAAQCBAeEPEEMgYIABAIEB46CwgAEIAEELADEMsBOgcIABAeELADOgkIABAeELADEAo6CQgAEAgQHhCwAzoMCAAQCBAeEPEEELADOhMILhCABBDUAhDIAxCwAxDLARgBSgQIQRgBSgQIRhgAUL8GWL8GYL4HaAFwAHgAgAFEiAFEkgEBMZgBAKABAcgBCcABAdoBBAgBGAg&sclient=gws-wiz-serp)\n",
        "\n",
        "2. [Hands-On Machine Learning with Scikit-Learn, Keras and TensorFlow by Aurélien Géron, 2nd edition, 2019](https://www.google.com/search?client=firefox-b-d&q=Hands-On+Machine+Learning+with+Scikit-Learn%2C+Keras%2C+and+Tensorflow)\n",
        "\n",
        "3. [TensorFlow Keras Documentation](https://www.tensorflow.org/api_docs/python/tf/keras)\n",
        "\n",
        "![zdjecie](https://www.harrierpestprevention.com/wp-content/uploads/2013/02/bumble-bee-150x150.jpg)\n",
        "\n",
        "\n",
        "<br/>"
      ],
      "metadata": {
        "id": "AKKD9l7g7Ilm"
      }
    }
  ]
}