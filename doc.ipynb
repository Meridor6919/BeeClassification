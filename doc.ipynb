{
  "nbformat": 4,
  "nbformat_minor": 0,
  "metadata": {
    "colab": {
      "provenance": [],
      "authorship_tag": "ABX9TyPVW3HdAizE5cQxvE0EV9EE",
      "include_colab_link": true
    },
    "kernelspec": {
      "name": "python3",
      "display_name": "Python 3"
    },
    "language_info": {
      "name": "python"
    }
  },
  "cells": [
    {
      "cell_type": "markdown",
      "metadata": {
        "id": "view-in-github",
        "colab_type": "text"
      },
      "source": [
        "<a href=\"https://colab.research.google.com/github/Meridor6919/BeeClassification/blob/master/doc.ipynb\" target=\"_parent\"><img src=\"https://colab.research.google.com/assets/colab-badge.svg\" alt=\"Open In Colab\"/></a>"
      ]
    },
    {
      "cell_type": "code",
      "execution_count": null,
      "metadata": {
        "id": "dGAzU72fnt3n"
      },
      "outputs": [],
      "source": []
    },
    {
      "cell_type": "markdown",
      "source": [
        "Preview of CNN based on bee_classification\n",
        "==========================================\n",
        "1. Wstęp\n",
        "\n",
        "* czym jest cnn\n",
        "* czym jest baza danych\n",
        "* cel uczenia\n",
        "\n",
        "2. Model\n",
        "\n",
        "* specyfika modelu(kilka parametrow na raz)\n",
        "* porównanie architektur\n",
        "  * \n",
        "  * ResNet(głęboka)\n",
        "* data preparation, augmentation\n",
        "* porównanie jakości klasyfikacji na 1 parametrze dla sieci z wieloma wyjściami i modeli dedykowanych\n",
        "\n",
        "3. Źródła"
      ],
      "metadata": {
        "id": "RaGc4fCbnxxH"
      }
    }
  ]
}